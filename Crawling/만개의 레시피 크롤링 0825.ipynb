{
 "cells": [
  {
   "cell_type": "code",
   "execution_count": 223,
   "id": "f77c56da",
   "metadata": {
    "ExecuteTime": {
     "end_time": "2021-08-25T16:58:26.637626Z",
     "start_time": "2021-08-25T16:58:26.628219Z"
    }
   },
   "outputs": [],
   "source": [
    "import pandas as pd\n",
    "import numpy as np\n",
    "import requests\n",
    "from selenium import webdriver\n",
    "from bs4 import BeautifulSoup\n",
    "import pandas as pd\n",
    "import time\n",
    "from time import sleep\n",
    "from selenium.common.exceptions import NoSuchElementException, UnexpectedAlertPresentException\n",
    "import re\n",
    "from selenium.webdriver.common.keys import Keys"
   ]
  },
  {
   "cell_type": "code",
   "execution_count": 439,
   "id": "bef5a42b",
   "metadata": {
    "ExecuteTime": {
     "end_time": "2021-08-28T21:21:06.721222Z",
     "start_time": "2021-08-28T21:21:02.623204Z"
    }
   },
   "outputs": [],
   "source": [
    "options = webdriver.ChromeOptions()\n",
    "options.add_experimental_option('excludeSwitches', ['enable-logging'])\n",
    "driver = webdriver.Chrome(executable_path = '/Users/nang/Desktop/ML/chromedriver', options=options)"
   ]
  },
  {
   "cell_type": "code",
   "execution_count": 424,
   "id": "3682e0d3",
   "metadata": {
    "ExecuteTime": {
     "end_time": "2021-08-28T06:36:44.459390Z",
     "start_time": "2021-08-28T06:36:44.457186Z"
    }
   },
   "outputs": [],
   "source": [
    "# 레시피 링크, 레시피 제목, 레시피 넘버, 인분, 소요시간, 난이도\n",
    "titles, links, nums, servings, tot_times, levels = [], [], [], [], [], []\n",
    "ingredients = [] # 레시피 재료"
   ]
  },
  {
   "cell_type": "code",
   "execution_count": 441,
   "id": "2f813da2",
   "metadata": {
    "ExecuteTime": {
     "end_time": "2021-08-28T21:29:14.373145Z",
     "start_time": "2021-08-28T21:22:57.431702Z"
    }
   },
   "outputs": [
    {
     "name": "stdout",
     "output_type": "stream",
     "text": [
      "time:  376.91802406311035\n"
     ]
    }
   ],
   "source": [
    "start = time.time()\n",
    "for i in range(600,601):\n",
    "    for j in range(1,45): ## 한페이지당 레시피 40개, 광고 4개\n",
    "        url = f'https://www.10000recipe.com/recipe/list.html?order=date&page={i}'\n",
    "        driver.get(url)\n",
    "        try:\n",
    "            driver.find_element_by_css_selector(f'#contents_area_full > ul > ul >\\\n",
    "                    li:nth-child({j}) > div.common_sp_thumb > a > img').click()\n",
    "            time.sleep(np.random.randint(2,5))\n",
    "            \n",
    "            html = driver.page_source\n",
    "            soup = BeautifulSoup(html, 'html.parser')\n",
    "            \n",
    "            try:\n",
    "                # 레시피명\n",
    "                title = soup.find('div','view2_summary st3').find('h3').text\n",
    "                titles.append(title)\n",
    "            \n",
    "            except NoSuchElementException:\n",
    "                titles.append(\"null\")\n",
    "            \n",
    "            try:\n",
    "                # 레시피 링크\n",
    "                link = soup.find('head').find('link',rel = 'canonical').attrs['href']\n",
    "                links.append(link)\n",
    "                num = link.split('/')[4]\n",
    "                nums.append(num)\n",
    "                \n",
    "            except NoSuchElementException:\n",
    "                links.append(\"null\")\n",
    "                nums.append('null')\n",
    "                \n",
    "            try:\n",
    "                # 인분\n",
    "                serving = soup.find('div','view2_summary_info').select('span')[0].text\n",
    "                servings.append(serving)\n",
    "                \n",
    "            except (NoSuchElementException,IndexError):\n",
    "                servings.append(\"null\")\n",
    "                \n",
    "                \n",
    "            try:    \n",
    "                # 소요시간\n",
    "                tot_time = soup.find('div','view2_summary_info').select('span')[1].text\n",
    "                tot_times.append(tot_time)\n",
    "            \n",
    "            except (NoSuchElementException,IndexError):\n",
    "                tot_times.append(\"null\")\n",
    "                \n",
    "            try:\n",
    "                # 난이도\n",
    "                level = soup.find('div','view2_summary_info').select('span')[2].text\n",
    "                levels.append(level)\n",
    "            \n",
    "            except (NoSuchElementException,IndexError):\n",
    "                levels.append(\"null\")\n",
    "            \n",
    "            try:\n",
    "                # 재료\n",
    "                ingredient = soup.find('div','cont_ingre').text.replace('\\n','').replace(' ','')\n",
    "                ingredients.append(ingredient)\n",
    "                \n",
    "            except AttributeError:\n",
    "                # 다른 재료 포맷\n",
    "                str_ing = soup.find('div','ready_ingre3').text.replace('\\n',' ')\n",
    "                rm_btwspace = ','.join(str_ing.split())  \n",
    "                ingredients.append(rm_btwspace)\n",
    "                 \n",
    "            except NoSuchElementException:\n",
    "                ingredients.append(\"null\")\n",
    "            \n",
    "        except (NoSuchElementException, UnexpectedAlertPresentException):\n",
    "            pass\n",
    "        \n",
    "        \n",
    "        time.sleep(1)\n",
    "\n",
    "print('time: ', time.time() - start)"
   ]
  },
  {
   "cell_type": "code",
   "execution_count": 455,
   "id": "12d25972",
   "metadata": {
    "ExecuteTime": {
     "end_time": "2021-08-28T21:29:41.911803Z",
     "start_time": "2021-08-28T21:29:41.900493Z"
    }
   },
   "outputs": [],
   "source": [
    "ny_recipe = pd.DataFrame({'레시피명': titles,\n",
    "                          'Index': nums,\n",
    "                          '레시피링크': links,\n",
    "                          '소요시간': tot_times,\n",
    "                          '인분': servings,\n",
    "                          '난이도': levels,\n",
    "                          '재료': ingredients})"
   ]
  },
  {
   "cell_type": "code",
   "execution_count": 456,
   "id": "c708300a",
   "metadata": {
    "ExecuteTime": {
     "end_time": "2021-08-28T21:29:43.251893Z",
     "start_time": "2021-08-28T21:29:43.243019Z"
    }
   },
   "outputs": [
    {
     "data": {
      "text/plain": [
       "레시피명                      시원한 여름요리 골뱅이물회 시판 배주스로 달달한 국물만들기\n",
       "Index                                              6938596\n",
       "레시피링크           https://www.10000recipe.com/recipe/6938596\n",
       "소요시간                                                60분 이내\n",
       "인분                                                     1인분\n",
       "난이도                                                     초급\n",
       "재료       [재료],골뱅이캔,1개,소면,1인분,양파,1/4개,양배추,1줌,오이,적당량,당근,적...\n",
       "Name: 3985, dtype: object"
      ]
     },
     "execution_count": 456,
     "metadata": {},
     "output_type": "execute_result"
    }
   ],
   "source": [
    "# 마지막부분 확인하기\n",
    "ny_recipe.iloc[-1,:]"
   ]
  },
  {
   "cell_type": "code",
   "execution_count": 457,
   "id": "d72acfa6",
   "metadata": {
    "ExecuteTime": {
     "end_time": "2021-08-28T21:29:47.727346Z",
     "start_time": "2021-08-28T21:29:46.657830Z"
    }
   },
   "outputs": [],
   "source": [
    "ny_recipe.to_excel('501~600페이지.xlsx')"
   ]
  },
  {
   "cell_type": "code",
   "execution_count": 368,
   "id": "21d65bbe",
   "metadata": {
    "ExecuteTime": {
     "end_time": "2021-08-27T10:01:44.636009Z",
     "start_time": "2021-08-27T10:01:44.620559Z"
    }
   },
   "outputs": [],
   "source": [
    "\n",
    "del links[0:3987]\n",
    "del tot_times[0:3987]\n",
    "del nums[0:3987]\n",
    "del servings[0:3987]\n",
    "del ingredients[0:3987]\n",
    "del levels[0:3987]"
   ]
  },
  {
   "cell_type": "code",
   "execution_count": 444,
   "id": "f205213f",
   "metadata": {
    "ExecuteTime": {
     "end_time": "2021-08-28T21:29:25.266392Z",
     "start_time": "2021-08-28T21:29:25.259187Z"
    }
   },
   "outputs": [
    {
     "data": {
      "text/plain": [
       "3986"
      ]
     },
     "execution_count": 444,
     "metadata": {},
     "output_type": "execute_result"
    }
   ],
   "source": [
    "len(titles)"
   ]
  },
  {
   "cell_type": "code",
   "execution_count": 445,
   "id": "b0344fd4",
   "metadata": {
    "ExecuteTime": {
     "end_time": "2021-08-28T21:29:29.199230Z",
     "start_time": "2021-08-28T21:29:29.192474Z"
    }
   },
   "outputs": [
    {
     "data": {
      "text/plain": [
       "3986"
      ]
     },
     "execution_count": 445,
     "metadata": {},
     "output_type": "execute_result"
    }
   ],
   "source": [
    "len(titles)"
   ]
  },
  {
   "cell_type": "code",
   "execution_count": 446,
   "id": "38c45ace",
   "metadata": {
    "ExecuteTime": {
     "end_time": "2021-08-28T21:29:29.912904Z",
     "start_time": "2021-08-28T21:29:29.908535Z"
    }
   },
   "outputs": [
    {
     "data": {
      "text/plain": [
       "3986"
      ]
     },
     "execution_count": 446,
     "metadata": {},
     "output_type": "execute_result"
    }
   ],
   "source": [
    "len(links)"
   ]
  },
  {
   "cell_type": "code",
   "execution_count": 447,
   "id": "3273cfe9",
   "metadata": {
    "ExecuteTime": {
     "end_time": "2021-08-28T21:29:30.612107Z",
     "start_time": "2021-08-28T21:29:30.606033Z"
    }
   },
   "outputs": [
    {
     "data": {
      "text/plain": [
       "3986"
      ]
     },
     "execution_count": 447,
     "metadata": {},
     "output_type": "execute_result"
    }
   ],
   "source": [
    "len(tot_times)"
   ]
  },
  {
   "cell_type": "code",
   "execution_count": 448,
   "id": "51161402",
   "metadata": {
    "ExecuteTime": {
     "end_time": "2021-08-28T21:29:31.125571Z",
     "start_time": "2021-08-28T21:29:31.122633Z"
    }
   },
   "outputs": [
    {
     "data": {
      "text/plain": [
       "3986"
      ]
     },
     "execution_count": 448,
     "metadata": {},
     "output_type": "execute_result"
    }
   ],
   "source": [
    "len(nums)"
   ]
  },
  {
   "cell_type": "code",
   "execution_count": 449,
   "id": "232dcdbb",
   "metadata": {
    "ExecuteTime": {
     "end_time": "2021-08-28T21:29:31.566464Z",
     "start_time": "2021-08-28T21:29:31.564098Z"
    }
   },
   "outputs": [
    {
     "data": {
      "text/plain": [
       "3986"
      ]
     },
     "execution_count": 449,
     "metadata": {},
     "output_type": "execute_result"
    }
   ],
   "source": [
    "len(servings)"
   ]
  },
  {
   "cell_type": "code",
   "execution_count": 450,
   "id": "5be6f56e",
   "metadata": {
    "ExecuteTime": {
     "end_time": "2021-08-28T21:29:31.986208Z",
     "start_time": "2021-08-28T21:29:31.983549Z"
    }
   },
   "outputs": [
    {
     "data": {
      "text/plain": [
       "3986"
      ]
     },
     "execution_count": 450,
     "metadata": {},
     "output_type": "execute_result"
    }
   ],
   "source": [
    "len(ingredients)"
   ]
  },
  {
   "cell_type": "code",
   "execution_count": 451,
   "id": "40ce08e2",
   "metadata": {
    "ExecuteTime": {
     "end_time": "2021-08-28T21:29:32.488789Z",
     "start_time": "2021-08-28T21:29:32.485043Z"
    }
   },
   "outputs": [
    {
     "data": {
      "text/plain": [
       "3986"
      ]
     },
     "execution_count": 451,
     "metadata": {},
     "output_type": "execute_result"
    }
   ],
   "source": [
    "len(levels)"
   ]
  },
  {
   "cell_type": "code",
   "execution_count": 452,
   "id": "bb2b0238",
   "metadata": {
    "ExecuteTime": {
     "end_time": "2021-08-28T21:29:33.373053Z",
     "start_time": "2021-08-28T21:29:33.366874Z"
    }
   },
   "outputs": [
    {
     "data": {
      "text/plain": [
       "3986"
      ]
     },
     "execution_count": 452,
     "metadata": {},
     "output_type": "execute_result"
    }
   ],
   "source": [
    "len(ny_recipe)"
   ]
  },
  {
   "cell_type": "code",
   "execution_count": 453,
   "id": "c50a68c9",
   "metadata": {
    "ExecuteTime": {
     "end_time": "2021-08-28T21:29:34.636855Z",
     "start_time": "2021-08-28T21:29:34.631047Z"
    }
   },
   "outputs": [
    {
     "data": {
      "text/plain": [
       "600"
      ]
     },
     "execution_count": 453,
     "metadata": {},
     "output_type": "execute_result"
    }
   ],
   "source": [
    "i"
   ]
  },
  {
   "cell_type": "code",
   "execution_count": 454,
   "id": "9795f477",
   "metadata": {
    "ExecuteTime": {
     "end_time": "2021-08-28T21:29:35.472747Z",
     "start_time": "2021-08-28T21:29:35.467509Z"
    }
   },
   "outputs": [
    {
     "data": {
      "text/plain": [
       "44"
      ]
     },
     "execution_count": 454,
     "metadata": {},
     "output_type": "execute_result"
    }
   ],
   "source": [
    "j"
   ]
  },
  {
   "cell_type": "markdown",
   "id": "1b8d2be3",
   "metadata": {},
   "source": []
  }
 ],
 "metadata": {
  "kernelspec": {
   "display_name": "Python 3 (ipykernel)",
   "language": "python",
   "name": "python3"
  },
  "language_info": {
   "codemirror_mode": {
    "name": "ipython",
    "version": 3
   },
   "file_extension": ".py",
   "mimetype": "text/x-python",
   "name": "python",
   "nbconvert_exporter": "python",
   "pygments_lexer": "ipython3",
   "version": "3.9.6"
  },
  "toc": {
   "base_numbering": 1,
   "nav_menu": {},
   "number_sections": true,
   "sideBar": true,
   "skip_h1_title": false,
   "title_cell": "Table of Contents",
   "title_sidebar": "Contents",
   "toc_cell": false,
   "toc_position": {},
   "toc_section_display": true,
   "toc_window_display": false
  },
  "varInspector": {
   "cols": {
    "lenName": 16,
    "lenType": 16,
    "lenVar": 40
   },
   "kernels_config": {
    "python": {
     "delete_cmd_postfix": "",
     "delete_cmd_prefix": "del ",
     "library": "var_list.py",
     "varRefreshCmd": "print(var_dic_list())"
    },
    "r": {
     "delete_cmd_postfix": ") ",
     "delete_cmd_prefix": "rm(",
     "library": "var_list.r",
     "varRefreshCmd": "cat(var_dic_list()) "
    }
   },
   "types_to_exclude": [
    "module",
    "function",
    "builtin_function_or_method",
    "instance",
    "_Feature"
   ],
   "window_display": false
  }
 },
 "nbformat": 4,
 "nbformat_minor": 5
}
